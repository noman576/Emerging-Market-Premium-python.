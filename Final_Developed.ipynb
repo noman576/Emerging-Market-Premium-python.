{
 "cells": [
  {
   "cell_type": "code",
   "execution_count": 21,
   "metadata": {},
   "outputs": [],
   "source": [
    "# Import of the necessary python libraries\n",
    "import pandas as pd\n",
    "import pandas_datareader as pdr\n",
    "import pandas_datareader.data as web\n",
    "import numpy as np\n",
    "import scipy.stats as scs\n",
    "import matplotlib.pyplot as plt"
   ]
  },
  {
   "cell_type": "code",
   "execution_count": 22,
   "metadata": {},
   "outputs": [],
   "source": [
    "# Define the risk-free rate rf for the calculation (for calculation of rf see the Excel tables)\n",
    "rf = 0.006"
   ]
  },
  {
   "cell_type": "code",
   "execution_count": 23,
   "metadata": {},
   "outputs": [],
   "source": [
    "# Creating a list-variable for the chosen indices\n",
    "symbols = ['^STOXX50E','^DJI','^N225']\n",
    "noa = len(symbols)"
   ]
  },
  {
   "cell_type": "code",
   "execution_count": 24,
   "metadata": {},
   "outputs": [
    {
     "data": {
      "text/html": [
       "<div>\n",
       "<style scoped>\n",
       "    .dataframe tbody tr th:only-of-type {\n",
       "        vertical-align: middle;\n",
       "    }\n",
       "\n",
       "    .dataframe tbody tr th {\n",
       "        vertical-align: top;\n",
       "    }\n",
       "\n",
       "    .dataframe thead th {\n",
       "        text-align: right;\n",
       "    }\n",
       "</style>\n",
       "<table border=\"1\" class=\"dataframe\">\n",
       "  <thead>\n",
       "    <tr style=\"text-align: right;\">\n",
       "      <th></th>\n",
       "      <th>^STOXX50E</th>\n",
       "      <th>^DJI</th>\n",
       "      <th>^N225</th>\n",
       "    </tr>\n",
       "    <tr>\n",
       "      <th>Date</th>\n",
       "      <th></th>\n",
       "      <th></th>\n",
       "      <th></th>\n",
       "    </tr>\n",
       "  </thead>\n",
       "  <tbody>\n",
       "    <tr>\n",
       "      <th>2019-01-04</th>\n",
       "      <td>3041.850098</td>\n",
       "      <td>23433.160156</td>\n",
       "      <td>19561.960938</td>\n",
       "    </tr>\n",
       "    <tr>\n",
       "      <th>2019-01-07</th>\n",
       "      <td>3033.639893</td>\n",
       "      <td>23531.349609</td>\n",
       "      <td>20038.970703</td>\n",
       "    </tr>\n",
       "    <tr>\n",
       "      <th>2019-01-08</th>\n",
       "      <td>3054.939941</td>\n",
       "      <td>23787.449219</td>\n",
       "      <td>20204.039062</td>\n",
       "    </tr>\n",
       "    <tr>\n",
       "      <th>2019-01-09</th>\n",
       "      <td>3070.239990</td>\n",
       "      <td>23879.119141</td>\n",
       "      <td>20427.060547</td>\n",
       "    </tr>\n",
       "    <tr>\n",
       "      <th>2019-01-10</th>\n",
       "      <td>3075.729980</td>\n",
       "      <td>24001.919922</td>\n",
       "      <td>20163.800781</td>\n",
       "    </tr>\n",
       "  </tbody>\n",
       "</table>\n",
       "</div>"
      ],
      "text/plain": [
       "              ^STOXX50E          ^DJI         ^N225\n",
       "Date                                               \n",
       "2019-01-04  3041.850098  23433.160156  19561.960938\n",
       "2019-01-07  3033.639893  23531.349609  20038.970703\n",
       "2019-01-08  3054.939941  23787.449219  20204.039062\n",
       "2019-01-09  3070.239990  23879.119141  20427.060547\n",
       "2019-01-10  3075.729980  24001.919922  20163.800781"
      ]
     },
     "execution_count": 24,
     "metadata": {},
     "output_type": "execute_result"
    }
   ],
   "source": [
    "# Import of financial data from Yahoo Finance\n",
    "prices = pd.DataFrame()\n",
    "for sym in symbols:\n",
    "    prices[sym] = web.DataReader(sym, data_source='yahoo',start='31/12/2018',end ='31/12/2019')['Adj Close']\n",
    "prices = prices.dropna()\n",
    "prices.head()"
   ]
  },
  {
   "cell_type": "code",
   "execution_count": 25,
   "metadata": {},
   "outputs": [
    {
     "data": {
      "text/html": [
       "<div>\n",
       "<style scoped>\n",
       "    .dataframe tbody tr th:only-of-type {\n",
       "        vertical-align: middle;\n",
       "    }\n",
       "\n",
       "    .dataframe tbody tr th {\n",
       "        vertical-align: top;\n",
       "    }\n",
       "\n",
       "    .dataframe thead th {\n",
       "        text-align: right;\n",
       "    }\n",
       "</style>\n",
       "<table border=\"1\" class=\"dataframe\">\n",
       "  <thead>\n",
       "    <tr style=\"text-align: right;\">\n",
       "      <th></th>\n",
       "      <th>^STOXX50E</th>\n",
       "      <th>^DJI</th>\n",
       "      <th>^N225</th>\n",
       "    </tr>\n",
       "  </thead>\n",
       "  <tbody>\n",
       "    <tr>\n",
       "      <th>^STOXX50E</th>\n",
       "      <td>0.000070</td>\n",
       "      <td>0.000047</td>\n",
       "      <td>0.000018</td>\n",
       "    </tr>\n",
       "    <tr>\n",
       "      <th>^DJI</th>\n",
       "      <td>0.000047</td>\n",
       "      <td>0.000057</td>\n",
       "      <td>0.000013</td>\n",
       "    </tr>\n",
       "    <tr>\n",
       "      <th>^N225</th>\n",
       "      <td>0.000018</td>\n",
       "      <td>0.000013</td>\n",
       "      <td>0.000079</td>\n",
       "    </tr>\n",
       "  </tbody>\n",
       "</table>\n",
       "</div>"
      ],
      "text/plain": [
       "           ^STOXX50E      ^DJI     ^N225\n",
       "^STOXX50E   0.000070  0.000047  0.000018\n",
       "^DJI        0.000047  0.000057  0.000013\n",
       "^N225       0.000018  0.000013  0.000079"
      ]
     },
     "execution_count": 25,
     "metadata": {},
     "output_type": "execute_result"
    }
   ],
   "source": [
    "# Calculating the Covariance-Matrix of the chosen indices\n",
    "cov_matrix = prices.pct_change().apply(lambda x: np.log(1+x)).cov()\n",
    "cov_matrix"
   ]
  },
  {
   "cell_type": "code",
   "execution_count": 26,
   "metadata": {},
   "outputs": [
    {
     "data": {
      "text/plain": [
       "^STOXX50E    0.150571\n",
       "^DJI         0.139485\n",
       "^N225        0.138236\n",
       "dtype: float64"
      ]
     },
     "execution_count": 26,
     "metadata": {},
     "output_type": "execute_result"
    }
   ],
   "source": [
    "# Calculating the expected return of the chosen indices ex post\n",
    "e_r = prices.resample(\"D\").last().pct_change().mean()*250\n",
    "e_r"
   ]
  },
  {
   "cell_type": "code",
   "execution_count": 27,
   "metadata": {},
   "outputs": [
    {
     "data": {
      "text/plain": [
       "^STOXX50E    0.132098\n",
       "^DJI         0.118891\n",
       "^N225        0.140780\n",
       "dtype: float64"
      ]
     },
     "execution_count": 27,
     "metadata": {},
     "output_type": "execute_result"
    }
   ],
   "source": [
    "# Calculating the standard diviation / volatility of the chosen indices\n",
    "sd = prices.pct_change().apply(lambda x: np.log(1+x)).std().apply(lambda x: x*np.sqrt(250))\n",
    "sd"
   ]
  },
  {
   "cell_type": "code",
   "execution_count": 28,
   "metadata": {},
   "outputs": [
    {
     "data": {
      "text/html": [
       "<div>\n",
       "<style scoped>\n",
       "    .dataframe tbody tr th:only-of-type {\n",
       "        vertical-align: middle;\n",
       "    }\n",
       "\n",
       "    .dataframe tbody tr th {\n",
       "        vertical-align: top;\n",
       "    }\n",
       "\n",
       "    .dataframe thead th {\n",
       "        text-align: right;\n",
       "    }\n",
       "</style>\n",
       "<table border=\"1\" class=\"dataframe\">\n",
       "  <thead>\n",
       "    <tr style=\"text-align: right;\">\n",
       "      <th></th>\n",
       "      <th>Returns</th>\n",
       "      <th>Volatility</th>\n",
       "    </tr>\n",
       "  </thead>\n",
       "  <tbody>\n",
       "    <tr>\n",
       "      <th>^STOXX50E</th>\n",
       "      <td>0.150571</td>\n",
       "      <td>0.132098</td>\n",
       "    </tr>\n",
       "    <tr>\n",
       "      <th>^DJI</th>\n",
       "      <td>0.139485</td>\n",
       "      <td>0.118891</td>\n",
       "    </tr>\n",
       "    <tr>\n",
       "      <th>^N225</th>\n",
       "      <td>0.138236</td>\n",
       "      <td>0.140780</td>\n",
       "    </tr>\n",
       "  </tbody>\n",
       "</table>\n",
       "</div>"
      ],
      "text/plain": [
       "            Returns  Volatility\n",
       "^STOXX50E  0.150571    0.132098\n",
       "^DJI       0.139485    0.118891\n",
       "^N225      0.138236    0.140780"
      ]
     },
     "execution_count": 28,
     "metadata": {},
     "output_type": "execute_result"
    }
   ],
   "source": [
    "# Concatenation of the indices and the returns/volatility\n",
    "assets = pd.concat([e_r, sd], axis=1)\n",
    "assets.columns = [\"Returns\", \"Volatility\"]\n",
    "assets"
   ]
  },
  {
   "cell_type": "code",
   "execution_count": 29,
   "metadata": {},
   "outputs": [],
   "source": [
    "# Creating blanco lists for the portfolio return, portfolio volatility and the weights of the particular indices\n",
    "# In addition, setting the number of determined portfolios to 2500 --> Law of large numbers\n",
    "p_ret = []\n",
    "p_vol = []\n",
    "p_weights = []\n",
    "\n",
    "num_assets = len(prices.columns)\n",
    "num_portfolios = 2500"
   ]
  },
  {
   "cell_type": "code",
   "execution_count": 30,
   "metadata": {},
   "outputs": [],
   "source": [
    "# Calculation of the weights of the particular indices by frequently random\n",
    "for portfolio in range(num_portfolios):\n",
    "    weights = np.random.random(num_assets)\n",
    "    weights = weights/np.sum(weights)\n",
    "    p_weights.append(weights)\n",
    "    returns = np.dot(weights, e_r)\n",
    "    p_ret.append(returns)\n",
    "    var = cov_matrix.mul(weights, axis=0).mul(weights, axis=1).sum().sum()\n",
    "    sd = np.sqrt(var)\n",
    "    ann_sd = sd*np.sqrt(250)\n",
    "    p_vol.append(ann_sd)"
   ]
  },
  {
   "cell_type": "code",
   "execution_count": 31,
   "metadata": {},
   "outputs": [],
   "source": [
    "# Return and Volatility Variables for plotting the portfolios\n",
    "port_ret = np.array(p_ret)\n",
    "port_vol = np.array(p_vol)"
   ]
  },
  {
   "cell_type": "code",
   "execution_count": 32,
   "metadata": {},
   "outputs": [],
   "source": [
    "data = {\"Returns\": p_ret, \"Volatility\": p_vol}"
   ]
  },
  {
   "cell_type": "code",
   "execution_count": 33,
   "metadata": {},
   "outputs": [],
   "source": [
    "for counter, symbol in enumerate(prices.columns.tolist()):\n",
    "    data[symbol+\" weight\"] = [w[counter] for w in p_weights]"
   ]
  },
  {
   "cell_type": "code",
   "execution_count": 34,
   "metadata": {},
   "outputs": [],
   "source": [
    "portfolios = pd.DataFrame(data)"
   ]
  },
  {
   "cell_type": "code",
   "execution_count": 35,
   "metadata": {},
   "outputs": [
    {
     "data": {
      "text/plain": [
       "<matplotlib.colorbar.Colorbar at 0x1e65bbf8d88>"
      ]
     },
     "execution_count": 35,
     "metadata": {},
     "output_type": "execute_result"
    },
    {
     "data": {
      "image/png": "[encoded data removed]",
      "text/plain": [
       "<Figure size 720x360 with 2 Axes>"
      ]
     },
     "metadata": {
      "needs_background": "light"
     },
     "output_type": "display_data"
    }
   ],
   "source": [
    "# Plotting the 2500 calculated portfolios and the Sharpe ratio in the colorbar\n",
    "plt.figure(figsize=(10, 5))\n",
    "plt.scatter(port_vol,port_ret,c=port_ret/port_vol, marker='o')\n",
    "plt.grid(True)\n",
    "plt.xlabel('expected volatility')\n",
    "plt.ylabel('expected return')\n",
    "plt.colorbar(label='Sharpe ratio')"
   ]
  },
  {
   "cell_type": "code",
   "execution_count": 36,
   "metadata": {},
   "outputs": [
    {
     "data": {
      "text/plain": [
       "Returns             0.140461\n",
       "Volatility          0.098500\n",
       "^STOXX50E weight    0.130643\n",
       "^DJI weight         0.491061\n",
       "^N225 weight        0.378296\n",
       "Name: 727, dtype: float64"
      ]
     },
     "execution_count": 36,
     "metadata": {},
     "output_type": "execute_result"
    }
   ],
   "source": [
    "# Summary of the MVP with Return, Volatility and the particular weights\n",
    "min_var_port = portfolios.iloc[portfolios[\"Volatility\"].idxmin()]\n",
    "min_var_port"
   ]
  },
  {
   "cell_type": "code",
   "execution_count": 37,
   "metadata": {},
   "outputs": [
    {
     "data": {
      "text/plain": [
       "1.365090297895295"
      ]
     },
     "execution_count": 37,
     "metadata": {},
     "output_type": "execute_result"
    }
   ],
   "source": [
    "sharpe_ratio_mvp = (min_var_port[\"Returns\"] - rf) / min_var_port[\"Volatility\"]\n",
    "sharpe_ratio_mvp"
   ]
  },
  {
   "cell_type": "code",
   "execution_count": 38,
   "metadata": {},
   "outputs": [
    {
     "data": {
      "text/plain": [
       "<matplotlib.colorbar.Colorbar at 0x1e65bbb1fc8>"
      ]
     },
     "execution_count": 38,
     "metadata": {},
     "output_type": "execute_result"
    },
    {
     "data": {
      "image/png": "[encoded data removed]",
      "text/plain": [
       "<Figure size 432x216 with 2 Axes>"
      ]
     },
     "metadata": {
      "needs_background": "light"
     },
     "output_type": "display_data"
    }
   ],
   "source": [
    "# Visualization of the MVP into the portfolio figure with a red point\n",
    "plt.subplots(figsize=(6,3))\n",
    "plt.scatter(portfolios[\"Volatility\"], portfolios[\"Returns\"], c = portfolios[\"Returns\"]/portfolios[\"Volatility\"])\n",
    "plt.scatter(min_var_port[1], min_var_port[0], color=\"r\")\n",
    "plt.grid(True)\n",
    "plt.xlabel('expected volatility')\n",
    "plt.ylabel('expected return')\n",
    "plt.colorbar(label='Sharpe ratio')"
   ]
  },
  {
   "cell_type": "code",
   "execution_count": 39,
   "metadata": {},
   "outputs": [
    {
     "data": {
      "text/plain": [
       "Returns             0.141686\n",
       "Volatility          0.098961\n",
       "^STOXX50E weight    0.239136\n",
       "^DJI weight         0.400323\n",
       "^N225 weight        0.360541\n",
       "Name: 2147, dtype: float64"
      ]
     },
     "execution_count": 39,
     "metadata": {},
     "output_type": "execute_result"
    }
   ],
   "source": [
    "# The portfolio with the maximum sharpe ratio is saved in the variable optimal_risky_portfolio and the summary is shown below\n",
    "optimal_risky_portfolio = portfolios.iloc[((portfolios[\"Returns\"]-rf)/portfolios[\"Volatility\"]).idxmax()]\n",
    "optimal_risky_portfolio"
   ]
  },
  {
   "cell_type": "code",
   "execution_count": 40,
   "metadata": {},
   "outputs": [
    {
     "data": {
      "text/plain": [
       "1.3711087871199652"
      ]
     },
     "execution_count": 40,
     "metadata": {},
     "output_type": "execute_result"
    }
   ],
   "source": [
    "sharpe_ratio = (optimal_risky_portfolio[\"Returns\"] - rf) / optimal_risky_portfolio[\"Volatility\"]\n",
    "sharpe_ratio"
   ]
  },
  {
   "cell_type": "code",
   "execution_count": 42,
   "metadata": {},
   "outputs": [
    {
     "name": "stderr",
     "output_type": "stream",
     "text": [
      "C:\\Users\\henri\\anaconda3\\lib\\site-packages\\ipykernel_launcher.py:13: MatplotlibDeprecationWarning: \n",
      "The frameon kwarg was deprecated in Matplotlib 3.1 and will be removed in 3.3. Use facecolor instead.\n",
      "  del sys.path[0]\n"
     ]
    },
    {
     "data": {
      "image/png": "[encoded data removed]",
      "text/plain": [
       "<Figure size 720x360 with 2 Axes>"
      ]
     },
     "metadata": {
      "needs_background": "light"
     },
     "output_type": "display_data"
    }
   ],
   "source": [
    "# Visualization of the optimal risky portfolio into the previous figure with a blue point\n",
    "plt.subplots(figsize=(10,5))\n",
    "plt.scatter(portfolios[\"Volatility\"], portfolios[\"Returns\"], c = portfolios[\"Returns\"]/portfolios[\"Volatility\"])\n",
    "plt.scatter(min_var_port[1], min_var_port[0], color=\"r\")\n",
    "plt.scatter(optimal_risky_portfolio[1], optimal_risky_portfolio[0], color=\"b\")\n",
    "plt.grid(True)\n",
    "plt.xlabel('expected volatility')\n",
    "plt.ylabel('expected return')\n",
    "plt.colorbar(label='Sharpe ratio')\n",
    "# Safe the figure to the computer (optional)\n",
    "plt.savefig(\"port_dev\", dpi=None, facecolor='w', edgecolor='w',\n",
    "        orientation='portrait', papertype=None, format=None,\n",
    "        transparent=False, bbox_inches=None, pad_inches=0.1,\n",
    "        frameon=None, metadata=None)"
   ]
  },
  {
   "cell_type": "code",
   "execution_count": null,
   "metadata": {},
   "outputs": [],
   "source": []
  },
  {
   "cell_type": "code",
   "execution_count": null,
   "metadata": {},
   "outputs": [],
   "source": []
  },
  {
   "cell_type": "code",
   "execution_count": null,
   "metadata": {},
   "outputs": [],
   "source": []
  },
  {
   "cell_type": "code",
   "execution_count": null,
   "metadata": {},
   "outputs": [],
   "source": []
  }
 ],
 "metadata": {
  "kernelspec": {
   "display_name": "Python 3",
   "language": "python",
   "name": "python3"
  },
  "language_info": {
   "codemirror_mode": {
    "name": "ipython",
    "version": 3
   },
   "file_extension": ".py",
   "mimetype": "text/x-python",
   "name": "python",
   "nbconvert_exporter": "python",
   "pygments_lexer": "ipython3",
   "version": "3.7.6"
  }
 },
 "nbformat": 4,
 "nbformat_minor": 4
}
